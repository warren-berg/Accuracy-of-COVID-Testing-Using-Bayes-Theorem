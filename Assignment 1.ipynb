{
 "cells": [
  {
   "cell_type": "markdown",
   "metadata": {},
   "source": [
    "**Assignment 1** - optional (10 pts)\n",
    "\n",
    "Let us define a random variable $T$= \"COVID test results\" with values $t=0,1$, and a random variable $G$=COVID, with values $g=0,1$. There are several available tests for COVID, including \"antigen\" tests and \"RT-PCR\" tests. \n",
    "\n",
    "Pick your favorite test, and compile the confusion matrix for this test, namely the rates for: hit=$P(t=1|g=1)$, miss=$P(t=0|g=1)$, false positive=$P(t=1|g=0)$, correct rejection=$P(t=0|g=0)$. If you can't find the actual values to fill all entries in the confusion matrix, you can invent some plausible probability for the missing values. \n",
    "\n",
    "Let us assume that a good estimate for the occurrence of COVID in the local Lane County population $P(g=1)$ is given by the fraction of people infected per 100k, as reported at the [Johns Hopkins Resource Center](https://coronavirus.jhu.edu/us-map).\n",
    "\n",
    "Q: What is the probability of having COVID if you tested positive $P(g=1|t=1)?\n"
   ]
  },
  {
   "cell_type": "markdown",
   "metadata": {},
   "source": [
    "# Assignment 1\n",
    "\n",
    "\n",
    "##### Math 410\n",
    "\n",
    "##### Warren Berg"
   ]
  },
  {
   "cell_type": "markdown",
   "metadata": {},
   "source": [
    "All information was gathered from FierceBiotech.com \n",
    "(https://www.fiercebiotech.com/medtech/current-covid-19-antibody-tests-aren-t-accurate-enough-for-mass-screening-say-oxford)"
   ]
  },
  {
   "cell_type": "code",
   "execution_count": 74,
   "metadata": {},
   "outputs": [],
   "source": [
    "# import packages\n",
    "\n",
    "import numpy as np"
   ]
  },
  {
   "cell_type": "markdown",
   "metadata": {},
   "source": [
    "### First\n",
    "We'll start off by writing the probabilities of having COVID in Lane County (based on data from Johns Hopkins Research Center)\n",
    "\n",
    "P(g=1) = Probability of having COVID in Lane County \n",
    "\n",
    "P(g=0) = Probability of not having COVID in Lane County\n"
   ]
  },
  {
   "cell_type": "code",
   "execution_count": 76,
   "metadata": {},
   "outputs": [
    {
     "name": "stdout",
     "output_type": "stream",
     "text": [
      "P(g=1)=  0.0039514\n",
      "P(g=0)=  0.9960486\n"
     ]
    }
   ],
   "source": [
    "# P(g=1)\n",
    "P_g_1 = .0039514\n",
    "\n",
    "# P(g=0)\n",
    "P_g_0 = 1 - P_g_1\n",
    "\n",
    "print(\"P(g=1)= \", P_g_1)\n",
    "print(\"P(g=0)= \", P_g_0)"
   ]
  },
  {
   "cell_type": "markdown",
   "metadata": {},
   "source": [
    "### Next, we'll construct our Confusion Matrix\n",
    "\n",
    "We will calculate the probability for each possible outcome and the results will be displayed as such:\n",
    "\n",
    "[Correct Positive, False Negative]  \n",
    "\n",
    "[False Positive, Correct Negative]"
   ]
  },
  {
   "cell_type": "code",
   "execution_count": 81,
   "metadata": {},
   "outputs": [
    {
     "name": "stdout",
     "output_type": "stream",
     "text": [
      "Confusion Matrix\n",
      "[['correct positive' 'false negative']\n",
      " ['false positive' 'correct negative']]\n"
     ]
    },
    {
     "data": {
      "text/plain": [
       "array([[0.93, 0.07],\n",
       "       [0.04, 0.96]])"
      ]
     },
     "execution_count": 81,
     "metadata": {},
     "output_type": "execute_result"
    }
   ],
   "source": [
    "## Calculation of Probabilities\n",
    "\n",
    "# Correct Positive       P(t=1|g=1)\n",
    "P_t1_g1 = 0.93\n",
    "\n",
    "# False Negative         P(t=0|g=1)\n",
    "P_t0_g1 = 1-P_t1_g1\n",
    "\n",
    "# False Postive          P(t=1|g=0)\n",
    "P_t1_g0 = 1 - P_t0_g0\n",
    "\n",
    "# Correct Negative       P(t=0|g=0)\n",
    "P_t0_g0 = .96\n",
    "\n",
    "## Display the Results\n",
    "\n",
    "print('Confusion Matrix')\n",
    "\n",
    "a = np.array([['correct positive', 'false negative'], ['false positive', 'correct negative']])\n",
    "print(a)\n",
    "\n",
    "cf_mtrx = np.array([[P_t1_g1, P_t0_g1],\n",
    "          [P_t1_g0, P_t0_g0]])\n",
    "cf_mtrx"
   ]
  },
  {
   "cell_type": "markdown",
   "metadata": {},
   "source": [
    "### What is the Probability of having COVID given that you test positive?\n",
    "\n",
    "We will use Bayes Theorem to answer this question.\n",
    "\n",
    "First, we set up Bayes Theorem\n",
    "\n",
    "    P(g=1|t=1)  = P(t=1|g=1)*P(g=1) / P(t=1)\n",
    "\n",
    "                = P(t=1|g=1)*P(g=1) / Sum[P(t=1|g')*P(g'), g'= 0,1]\n",
    "            \n",
    "                = P(t=1|g=1)*P(g=1) / P(t=1|g=1)*P(g=1) + P(t=1|g=0)*P(g=0)\n",
    "                "
   ]
  },
  {
   "cell_type": "code",
   "execution_count": 90,
   "metadata": {},
   "outputs": [
    {
     "name": "stdout",
     "output_type": "stream",
     "text": [
      "The probability of having COVID given that you tested Positive is: \n",
      "8.44 %\n"
     ]
    }
   ],
   "source": [
    "# Plugging our probability values into Bayes Theorem, we get\n",
    "\n",
    "pr_covid = (P_t1_g1 * P_g_1) / ((P_t1_g1 * P_g_1) + (P_t1_g0 * P_g_0))\n",
    "\n",
    "# Display Results\n",
    "\n",
    "print(\"The probability of having COVID given that you tested Positive is: \")\n",
    "print(round(pr_covid*100, 2), \"%\")"
   ]
  },
  {
   "cell_type": "markdown",
   "metadata": {},
   "source": [
    "## What is the Probability of having COVID if you tested negative? P(g=1|t=0)\n",
    "\n",
    "Using the Bayes Theorem once again, we see that \n",
    "\n",
    "         P(g=1|t=0) = P(t=0|g=1)*P(g=1) / P(t=0)\n",
    "         \n",
    "                    = P(t=0|g=1)*P(g=1) / Sum[P(t=0|g')*P(g'), g'= 0,1]\n",
    "                    \n",
    "                    = P(t=0|g=1)*P(g=1) / P(t=0|g=1)*P(g=1) + P(t=0|g=0)*P(g=0)"
   ]
  },
  {
   "cell_type": "code",
   "execution_count": 91,
   "metadata": {},
   "outputs": [
    {
     "name": "stdout",
     "output_type": "stream",
     "text": [
      "The probability that you have COVID given you tested Negative is\n",
      "0.03 %\n"
     ]
    }
   ],
   "source": [
    "# Plugging our probability values into Bayes Theorem, we get\n",
    "\n",
    "pr_covid_negative_test = (P_t0_g1 * P_g_1) / ((P_t0_g1 * P_g_1) + (P_t0_g0 * P_g_0))\n",
    "\n",
    "# Display Results\n",
    "\n",
    "print('The probability that you have COVID given you tested Negative is')\n",
    "print(round(pr_covid_negative_test*100, 2), \"%\")"
   ]
  },
  {
   "cell_type": "markdown",
   "metadata": {},
   "source": [
    "### That's Reassuring!"
   ]
  },
  {
   "cell_type": "code",
   "execution_count": null,
   "metadata": {},
   "outputs": [],
   "source": []
  }
 ],
 "metadata": {
  "kernelspec": {
   "display_name": "Python 3",
   "language": "python",
   "name": "python3"
  },
  "language_info": {
   "codemirror_mode": {
    "name": "ipython",
    "version": 3
   },
   "file_extension": ".py",
   "mimetype": "text/x-python",
   "name": "python",
   "nbconvert_exporter": "python",
   "pygments_lexer": "ipython3",
   "version": "3.8.3"
  }
 },
 "nbformat": 4,
 "nbformat_minor": 4
}
